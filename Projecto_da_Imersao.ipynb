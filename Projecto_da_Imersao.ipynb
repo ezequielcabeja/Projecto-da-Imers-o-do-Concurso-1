{
  "nbformat": 4,
  "nbformat_minor": 0,
  "metadata": {
    "colab": {
      "provenance": [],
      "authorship_tag": "ABX9TyNLty4NX4J+B1kJJRy8LfVU",
      "include_colab_link": true
    },
    "kernelspec": {
      "name": "python3",
      "display_name": "Python 3"
    },
    "language_info": {
      "name": "python"
    }
  },
  "cells": [
    {
      "cell_type": "markdown",
      "metadata": {
        "id": "view-in-github",
        "colab_type": "text"
      },
      "source": [
        "<a href=\"https://colab.research.google.com/github/ezequielcabeja/Projecto-da-Imers-o-do-Concurso-1/blob/main/Projecto_da_Imersao.ipynb\" target=\"_parent\"><img src=\"https://colab.research.google.com/assets/colab-badge.svg\" alt=\"Open In Colab\"/></a>"
      ]
    },
    {
      "cell_type": "code",
      "execution_count": null,
      "metadata": {
        "id": "Ed4wBmcLDDlY"
      },
      "outputs": [],
      "source": [
        "# Importa as bibliotecas necessárias\n",
        "import requests\n",
        "import random\n",
        "import google.generativeai as genai\n",
        "\n",
        "# Configura a API do Google Generative AI\n",
        "GOOGLE_API_KEY = 'SUA_CHAVE_API_AQUI'  # Substitua pela sua chave de API\n",
        "genai.configure(api_key=GOOGLE_API_KEY)\n",
        "\n",
        "# Obtém a lista de palavras do JSON\n",
        "url = 'https://raw.githubusercontent.com/guilhermeonrails/api-imersao-ia/main/words.json'\n",
        "resposta = requests.get(url)\n",
        "data = resposta.json()\n",
        "\n",
        "# Escolhe uma palavra secreta aleatória\n",
        "valor_secreto = random.choice(data)\n",
        "palavra_secreta = valor_secreto['palavra']\n",
        "dica = valor_secreto['dica']\n",
        "\n",
        "# Imprime informações sobre a palavra secreta\n",
        "print(f'A palavra secreta tem {len(palavra_secreta)} letras')\n",
        "print(f'A dica é -> {dica}')\n",
        "\n",
        "# Loop principal do jogo\n",
        "while True:\n",
        "    # Recebe o palpite do jogador\n",
        "    chute = input('O que você acha que é? R: ')\n",
        "\n",
        "    # Verifica se o palpite está correto\n",
        "    if chute == palavra_secreta:\n",
        "        print('Acertou')\n",
        "        break  # Sai do loop se acertou\n",
        "    else:\n",
        "        print(f'Errou... Quer uma dica do Gemini? (s/n)')\n",
        "        quer_dica = input().lower()\n",
        "\n",
        "        if quer_dica == 's': #Há um erro nesta linha de código que não consigo concerta, para continuar, deve-se inserir um qualquer letra ou palvra difere de (s ou nsjdhj)\n",
        "            # Usa o Gemini para gerar uma dica adicional\n",
        "            model = genai.GenerativeModel(model_name='gemini-1.0-pro')\n",
        "            prompt = f\"Me dê uma dica adicional para a palavra '{palavra_secreta}', que se relaciona com '{dica}'.\"\n",
        "            response = model.generate_content(prompt)\n",
        "            print('Dica do Gemini:', response.text)\n",
        "            # O jogo continua após a dica.\n",
        "        elif quer_dica == 'n':\n",
        "            print(\"Ok, encerrando o jogo...\")\n",
        "            break # Sai do loop se o usuário não quiser dica\n",
        "        else:\n",
        "            print(f'Continue tentando... A palavra secreta ainda tem {len(palavra_secreta)} letras')\n",
        "\n",
        "# Fim do jogo\n",
        "print(f'A palavra secreta era -> {palavra_secreta}')"
      ]
    }
  ]
}